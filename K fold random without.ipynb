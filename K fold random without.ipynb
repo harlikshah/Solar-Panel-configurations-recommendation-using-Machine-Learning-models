{
 "cells": [
  {
   "cell_type": "code",
   "execution_count": null,
   "metadata": {},
   "outputs": [],
   "source": [
    "import pandas as pd\n",
    "import numpy as np\n",
    "import seaborn as sns\n",
    "import matplotlib.pyplot as plt\n",
    "import matplotlib\n",
    "import sklearn\n",
    "from sklearn.utils import shuffle\n",
    "# from sklearn.model_selection import train_test_split\n",
    "\n",
    "%matplotlib inline\n",
    "\n",
    "df = pd.read_csv(\"C:/Users/shahh/OneDrive/Desktop/Research Paper - KS/Final CSV/April/final_data.csv\")\n",
    "# df = df.drop(columns=['File Name','Number of cells','Cell Number'])\n",
    "df = shuffle(df)\n",
    "df\n",
    "\n"
   ]
  },
  {
   "cell_type": "code",
   "execution_count": null,
   "metadata": {},
   "outputs": [],
   "source": [
    "df = df.drop(columns=['File Name'])\n",
    "df"
   ]
  },
  {
   "cell_type": "code",
   "execution_count": null,
   "metadata": {},
   "outputs": [],
   "source": [
    "X = df.drop('IsShade', axis=1)\n",
    "y = df['IsShade']\n"
   ]
  },
  {
   "cell_type": "code",
   "execution_count": null,
   "metadata": {},
   "outputs": [],
   "source": []
  },
  {
   "cell_type": "code",
   "execution_count": 4,
   "metadata": {},
   "outputs": [],
   "source": [
    "\n",
    "from sklearn.model_selection import train_test_split\n",
    "# implementing train-test-split\n",
    "X_train, X_test, y_train, y_test = train_test_split(X, y, test_size=0.34, random_state=44)\n",
    "\n"
   ]
  },
  {
   "cell_type": "code",
   "execution_count": null,
   "metadata": {},
   "outputs": [],
   "source": []
  },
  {
   "cell_type": "code",
   "execution_count": 5,
   "metadata": {},
   "outputs": [],
   "source": [
    "from sklearn import model_selection\n",
    "from sklearn.ensemble import RandomForestClassifier\n",
    "from sklearn.metrics import roc_auc_score\n",
    "# random forest model creation\n",
    "rfc = RandomForestClassifier(n_estimators=200, random_state=39, max_depth=4)\n",
    "rfc.fit(X_train,y_train)\n",
    "# predictions\n",
    "rfc_predict = rfc.predict(X_test)\n"
   ]
  },
  {
   "cell_type": "code",
   "execution_count": 6,
   "metadata": {},
   "outputs": [
    {
     "name": "stdout",
     "output_type": "stream",
     "text": [
      "Train set\n",
      "Random Forests roc-auc: 0.9877283173780718\n",
      "Test set\n",
      "Random Forests roc-auc: 0.9870733847506907\n"
     ]
    }
   ],
   "source": [
    "print('Train set')\n",
    "train_pred = rfc.predict_proba(X_train)\n",
    "print('Random Forests roc-auc: {}'.format(roc_auc_score(y_train, train_pred[:,1])))\n",
    "print('Test set')\n",
    "test_pred = rfc.predict_proba(X_test)\n",
    "print('Random Forests roc-auc: {}'.format(roc_auc_score(y_test, test_pred[:,1])))"
   ]
  },
  {
   "cell_type": "code",
   "execution_count": null,
   "metadata": {},
   "outputs": [],
   "source": []
  },
  {
   "cell_type": "code",
   "execution_count": null,
   "metadata": {},
   "outputs": [],
   "source": []
  },
  {
   "cell_type": "code",
   "execution_count": null,
   "metadata": {},
   "outputs": [],
   "source": []
  },
  {
   "cell_type": "code",
   "execution_count": 7,
   "metadata": {},
   "outputs": [],
   "source": [
    "from sklearn.model_selection import cross_val_score\n",
    "from sklearn.metrics import classification_report, confusion_matrix\n",
    "\n",
    "rfc_cv_score = cross_val_score(rfc, X, y, cv=10, scoring='roc_auc')"
   ]
  },
  {
   "cell_type": "code",
   "execution_count": null,
   "metadata": {},
   "outputs": [],
   "source": []
  },
  {
   "cell_type": "code",
   "execution_count": 20,
   "metadata": {},
   "outputs": [
    {
     "name": "stdout",
     "output_type": "stream",
     "text": [
      "Cross-validation scores:\n",
      "None\n",
      "Cross-validation scores:\n",
      "[0.93718252 0.95029533 0.93301831]\n",
      "0.9401653868871825\n"
     ]
    }
   ],
   "source": [
    "from sklearn.model_selection import KFold\n",
    "scores_rf = []\n",
    "kfold = KFold(n_splits=3)\n",
    "print(\"Cross-validation scores:\\n{}\".format(\n",
    "      scores_rf.append(cross_val_score(rfc, X, y, cv=kfold))))\n",
    "print(\"Cross-validation scores:\\n{}\".format(\n",
    "      cross_val_score(rfc, X, y, cv=kfold)))\n",
    "print(np.mean(scores_rf))"
   ]
  },
  {
   "cell_type": "code",
   "execution_count": 23,
   "metadata": {},
   "outputs": [
    {
     "name": "stdout",
     "output_type": "stream",
     "text": [
      "Cross-validation scores:\n",
      "None\n",
      "Cross-validation scores:\n",
      "[0.93423902 0.95235283 0.93256547 0.93955503 0.93719236 0.94132703\n",
      " 0.93945659 0.93699547 0.93256547 0.93423902]\n",
      "0.9380488285095492\n"
     ]
    }
   ],
   "source": [
    "from sklearn.model_selection import KFold\n",
    "scores_rf = []\n",
    "kfold = KFold(n_splits=10)\n",
    "print(\"Cross-validation scores:\\n{}\".format(\n",
    "      scores_rf.append(cross_val_score(rfc, X, y, cv=kfold))))\n",
    "print(\"Cross-validation scores:\\n{}\".format(\n",
    "      cross_val_score(rfc, X, y, cv=kfold)))\n",
    "print(np.mean(scores_rf))"
   ]
  },
  {
   "cell_type": "code",
   "execution_count": null,
   "metadata": {},
   "outputs": [],
   "source": []
  },
  {
   "cell_type": "code",
   "execution_count": 24,
   "metadata": {},
   "outputs": [
    {
     "name": "stdout",
     "output_type": "stream",
     "text": [
      "Cross-validation scores:\n",
      "None\n",
      "Cross-validation scores:\n",
      "[0.93877732 0.95032487 0.93422918]\n",
      "0.9380488285095492\n"
     ]
    }
   ],
   "source": [
    "from sklearn.model_selection import StratifiedKFold\n",
    "scores_rf = []\n",
    "skfold = StratifiedKFold(n_splits=3)\n",
    "print(\"Cross-validation scores:\\n{}\".format(\n",
    "      scores_rf.append(cross_val_score(rfc, X, y, cv=kfold))))\n",
    "print(\"Cross-validation scores:\\n{}\".format(\n",
    "      cross_val_score(rfc, X, y, cv=skfold)))\n",
    "print(np.mean(scores_rf))"
   ]
  },
  {
   "cell_type": "code",
   "execution_count": 25,
   "metadata": {},
   "outputs": [
    {
     "name": "stdout",
     "output_type": "stream",
     "text": [
      "Cross-validation scores:\n",
      "None\n",
      "Cross-validation scores:\n",
      "[0.93326115 0.95058569 0.93473767 0.93975785 0.93827525 0.9401457\n",
      " 0.93698927 0.93846608 0.92606084 0.934331  ]\n",
      "0.9380488285095492\n"
     ]
    }
   ],
   "source": [
    "from sklearn.model_selection import StratifiedKFold\n",
    "scores_rf = []\n",
    "skfold = StratifiedKFold(n_splits=10)\n",
    "print(\"Cross-validation scores:\\n{}\".format(\n",
    "      scores_rf.append(cross_val_score(rfc, X, y, cv=kfold))))\n",
    "print(\"Cross-validation scores:\\n{}\".format(\n",
    "      cross_val_score(rfc, X, y, cv=skfold)))\n",
    "print(np.mean(scores_rf))"
   ]
  },
  {
   "cell_type": "code",
   "execution_count": 8,
   "metadata": {},
   "outputs": [
    {
     "name": "stdout",
     "output_type": "stream",
     "text": [
      "=== Confusion Matrix ===\n",
      "[[16141  1129]\n",
      " [ 1090 16178]]\n",
      "\n",
      "\n",
      "=== Classification Report ===\n",
      "              precision    recall  f1-score   support\n",
      "\n",
      "           0       0.94      0.93      0.94     17270\n",
      "           1       0.93      0.94      0.94     17268\n",
      "\n",
      "    accuracy                           0.94     34538\n",
      "   macro avg       0.94      0.94      0.94     34538\n",
      "weighted avg       0.94      0.94      0.94     34538\n",
      "\n",
      "\n",
      "\n",
      "=== All AUC Scores ===\n",
      "[0.98725685 0.98991993 0.98825192 0.98919361 0.98860299 0.9875973\n",
      " 0.98839587 0.98802733 0.98552349 0.98766368]\n",
      "\n",
      "\n",
      "=== Mean AUC Score ===\n",
      "Mean AUC Score - Random Forest:  0.9880432962093607\n"
     ]
    }
   ],
   "source": [
    "print(\"=== Confusion Matrix ===\")\n",
    "print(confusion_matrix(y_test, rfc_predict))\n",
    "print('\\n')\n",
    "print(\"=== Classification Report ===\")\n",
    "print(classification_report(y_test, rfc_predict))\n",
    "print('\\n')\n",
    "print(\"=== All AUC Scores ===\")\n",
    "print(rfc_cv_score)\n",
    "print('\\n')\n",
    "print(\"=== Mean AUC Score ===\")\n",
    "print(\"Mean AUC Score - Random Forest: \", rfc_cv_score.mean())"
   ]
  },
  {
   "cell_type": "code",
   "execution_count": 9,
   "metadata": {},
   "outputs": [
    {
     "name": "stdout",
     "output_type": "stream",
     "text": [
      "Train Accuracy ::  0.9374272843888906\n",
      "Test Accuracy  ::  0.9357519254154844\n"
     ]
    }
   ],
   "source": [
    "from sklearn.metrics import accuracy_score\n",
    "\n",
    "print(\"Train Accuracy :: \", accuracy_score(y_train, rfc.predict(X_train)))\n",
    "print(\"Test Accuracy  :: \", accuracy_score(y_test, rfc_predict))"
   ]
  },
  {
   "cell_type": "code",
   "execution_count": null,
   "metadata": {},
   "outputs": [],
   "source": []
  },
  {
   "cell_type": "code",
   "execution_count": null,
   "metadata": {},
   "outputs": [],
   "source": []
  },
  {
   "cell_type": "markdown",
   "metadata": {},
   "source": []
  },
  {
   "cell_type": "code",
   "execution_count": 27,
   "metadata": {},
   "outputs": [
    {
     "data": {
      "text/plain": [
       "0.8573165788406972"
      ]
     },
     "execution_count": 27,
     "metadata": {},
     "output_type": "execute_result"
    }
   ],
   "source": [
    "from sklearn.svm import SVC\n",
    "svm = SVC(gamma='auto')\n",
    "svm.fit(X_train, y_train)\n",
    "svm.score(X_test, y_test)"
   ]
  },
  {
   "cell_type": "code",
   "execution_count": null,
   "metadata": {},
   "outputs": [],
   "source": []
  },
  {
   "cell_type": "code",
   "execution_count": null,
   "metadata": {},
   "outputs": [],
   "source": []
  },
  {
   "cell_type": "code",
   "execution_count": 10,
   "metadata": {},
   "outputs": [
    {
     "data": {
      "text/plain": [
       "0.9357519254154844"
      ]
     },
     "execution_count": 10,
     "metadata": {},
     "output_type": "execute_result"
    }
   ],
   "source": []
  },
  {
   "cell_type": "code",
   "execution_count": null,
   "metadata": {},
   "outputs": [],
   "source": []
  }
 ],
 "metadata": {
  "kernelspec": {
   "display_name": "Python 3",
   "language": "python",
   "name": "python3"
  },
  "language_info": {
   "codemirror_mode": {
    "name": "ipython",
    "version": 3
   },
   "file_extension": ".py",
   "mimetype": "text/x-python",
   "name": "python",
   "nbconvert_exporter": "python",
   "pygments_lexer": "ipython3",
   "version": "3.7.4"
  }
 },
 "nbformat": 4,
 "nbformat_minor": 2
}
