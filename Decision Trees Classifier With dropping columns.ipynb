{
 "cells": [
  {
   "cell_type": "code",
   "execution_count": 15,
   "metadata": {},
   "outputs": [
    {
     "data": {
      "text/html": [
       "<div>\n",
       "<style scoped>\n",
       "    .dataframe tbody tr th:only-of-type {\n",
       "        vertical-align: middle;\n",
       "    }\n",
       "\n",
       "    .dataframe tbody tr th {\n",
       "        vertical-align: top;\n",
       "    }\n",
       "\n",
       "    .dataframe thead th {\n",
       "        text-align: right;\n",
       "    }\n",
       "</style>\n",
       "<table border=\"1\" class=\"dataframe\">\n",
       "  <thead>\n",
       "    <tr style=\"text-align: right;\">\n",
       "      <th></th>\n",
       "      <th>Sr. 0</th>\n",
       "      <th>Temperature</th>\n",
       "      <th>Series</th>\n",
       "      <th>Parallel</th>\n",
       "      <th>Shading</th>\n",
       "      <th>Voltage (V)</th>\n",
       "      <th>Current (I)</th>\n",
       "      <th>I/V</th>\n",
       "      <th>Solar Panel</th>\n",
       "      <th>Shade Percentage</th>\n",
       "      <th>IsShade</th>\n",
       "    </tr>\n",
       "  </thead>\n",
       "  <tbody>\n",
       "    <tr>\n",
       "      <td>24800</td>\n",
       "      <td>24801</td>\n",
       "      <td>30</td>\n",
       "      <td>2</td>\n",
       "      <td>4</td>\n",
       "      <td>4</td>\n",
       "      <td>0.21</td>\n",
       "      <td>13.03</td>\n",
       "      <td>62.03</td>\n",
       "      <td>2597</td>\n",
       "      <td>50.0</td>\n",
       "      <td>0</td>\n",
       "    </tr>\n",
       "    <tr>\n",
       "      <td>36322</td>\n",
       "      <td>36323</td>\n",
       "      <td>35</td>\n",
       "      <td>10</td>\n",
       "      <td>1</td>\n",
       "      <td>2</td>\n",
       "      <td>5.63</td>\n",
       "      <td>-2.33</td>\n",
       "      <td>-0.41</td>\n",
       "      <td>3838</td>\n",
       "      <td>20.0</td>\n",
       "      <td>0</td>\n",
       "    </tr>\n",
       "    <tr>\n",
       "      <td>7491</td>\n",
       "      <td>7492</td>\n",
       "      <td>27</td>\n",
       "      <td>2</td>\n",
       "      <td>4</td>\n",
       "      <td>1</td>\n",
       "      <td>1.12</td>\n",
       "      <td>2.91</td>\n",
       "      <td>2.60</td>\n",
       "      <td>755</td>\n",
       "      <td>12.5</td>\n",
       "      <td>0</td>\n",
       "    </tr>\n",
       "    <tr>\n",
       "      <td>8469</td>\n",
       "      <td>8470</td>\n",
       "      <td>27</td>\n",
       "      <td>2</td>\n",
       "      <td>5</td>\n",
       "      <td>10</td>\n",
       "      <td>0.10</td>\n",
       "      <td>10.86</td>\n",
       "      <td>108.56</td>\n",
       "      <td>874</td>\n",
       "      <td>100.0</td>\n",
       "      <td>1</td>\n",
       "    </tr>\n",
       "    <tr>\n",
       "      <td>76574</td>\n",
       "      <td>76575</td>\n",
       "      <td>45</td>\n",
       "      <td>2</td>\n",
       "      <td>5</td>\n",
       "      <td>2</td>\n",
       "      <td>0.75</td>\n",
       "      <td>19.46</td>\n",
       "      <td>25.94</td>\n",
       "      <td>8092</td>\n",
       "      <td>20.0</td>\n",
       "      <td>0</td>\n",
       "    </tr>\n",
       "    <tr>\n",
       "      <td>...</td>\n",
       "      <td>...</td>\n",
       "      <td>...</td>\n",
       "      <td>...</td>\n",
       "      <td>...</td>\n",
       "      <td>...</td>\n",
       "      <td>...</td>\n",
       "      <td>...</td>\n",
       "      <td>...</td>\n",
       "      <td>...</td>\n",
       "      <td>...</td>\n",
       "      <td>...</td>\n",
       "    </tr>\n",
       "    <tr>\n",
       "      <td>22400</td>\n",
       "      <td>22401</td>\n",
       "      <td>30</td>\n",
       "      <td>10</td>\n",
       "      <td>1</td>\n",
       "      <td>8</td>\n",
       "      <td>0.81</td>\n",
       "      <td>2.18</td>\n",
       "      <td>2.69</td>\n",
       "      <td>2342</td>\n",
       "      <td>80.0</td>\n",
       "      <td>1</td>\n",
       "    </tr>\n",
       "    <tr>\n",
       "      <td>70505</td>\n",
       "      <td>70506</td>\n",
       "      <td>45</td>\n",
       "      <td>10</td>\n",
       "      <td>1</td>\n",
       "      <td>3</td>\n",
       "      <td>3.06</td>\n",
       "      <td>2.19</td>\n",
       "      <td>0.71</td>\n",
       "      <td>7458</td>\n",
       "      <td>30.0</td>\n",
       "      <td>0</td>\n",
       "    </tr>\n",
       "    <tr>\n",
       "      <td>63081</td>\n",
       "      <td>63082</td>\n",
       "      <td>40</td>\n",
       "      <td>4</td>\n",
       "      <td>2</td>\n",
       "      <td>3</td>\n",
       "      <td>0.22</td>\n",
       "      <td>6.52</td>\n",
       "      <td>29.62</td>\n",
       "      <td>6680</td>\n",
       "      <td>37.5</td>\n",
       "      <td>0</td>\n",
       "    </tr>\n",
       "    <tr>\n",
       "      <td>3040</td>\n",
       "      <td>3041</td>\n",
       "      <td>27</td>\n",
       "      <td>10</td>\n",
       "      <td>1</td>\n",
       "      <td>4</td>\n",
       "      <td>0.41</td>\n",
       "      <td>2.19</td>\n",
       "      <td>5.33</td>\n",
       "      <td>305</td>\n",
       "      <td>40.0</td>\n",
       "      <td>1</td>\n",
       "    </tr>\n",
       "    <tr>\n",
       "      <td>6735</td>\n",
       "      <td>6736</td>\n",
       "      <td>27</td>\n",
       "      <td>1</td>\n",
       "      <td>10</td>\n",
       "      <td>1</td>\n",
       "      <td>0.16</td>\n",
       "      <td>41.25</td>\n",
       "      <td>257.83</td>\n",
       "      <td>674</td>\n",
       "      <td>10.0</td>\n",
       "      <td>0</td>\n",
       "    </tr>\n",
       "  </tbody>\n",
       "</table>\n",
       "<p>101580 rows × 11 columns</p>\n",
       "</div>"
      ],
      "text/plain": [
       "       Sr. 0  Temperature  Series  Parallel  Shading  Voltage (V)  \\\n",
       "24800  24801           30       2         4        4         0.21   \n",
       "36322  36323           35      10         1        2         5.63   \n",
       "7491    7492           27       2         4        1         1.12   \n",
       "8469    8470           27       2         5       10         0.10   \n",
       "76574  76575           45       2         5        2         0.75   \n",
       "...      ...          ...     ...       ...      ...          ...   \n",
       "22400  22401           30      10         1        8         0.81   \n",
       "70505  70506           45      10         1        3         3.06   \n",
       "63081  63082           40       4         2        3         0.22   \n",
       "3040    3041           27      10         1        4         0.41   \n",
       "6735    6736           27       1        10        1         0.16   \n",
       "\n",
       "       Current (I)     I/V  Solar Panel  Shade Percentage  IsShade  \n",
       "24800        13.03   62.03         2597              50.0        0  \n",
       "36322        -2.33   -0.41         3838              20.0        0  \n",
       "7491          2.91    2.60          755              12.5        0  \n",
       "8469         10.86  108.56          874             100.0        1  \n",
       "76574        19.46   25.94         8092              20.0        0  \n",
       "...            ...     ...          ...               ...      ...  \n",
       "22400         2.18    2.69         2342              80.0        1  \n",
       "70505         2.19    0.71         7458              30.0        0  \n",
       "63081         6.52   29.62         6680              37.5        0  \n",
       "3040          2.19    5.33          305              40.0        1  \n",
       "6735         41.25  257.83          674              10.0        0  \n",
       "\n",
       "[101580 rows x 11 columns]"
      ]
     },
     "execution_count": 15,
     "metadata": {},
     "output_type": "execute_result"
    }
   ],
   "source": [
    "import pandas as pd\n",
    "import numpy as np\n",
    "import seaborn as sns\n",
    "import matplotlib.pyplot as plt\n",
    "import matplotlib\n",
    "import sklearn\n",
    "from sklearn.utils import shuffle\n",
    "# from sklearn.model_selection import train_test_split\n",
    "\n",
    "%matplotlib inline\n",
    "\n",
    "df = pd.read_csv(\"C:/Users/shahh/OneDrive/Desktop/Research Paper - KS/Final CSV/April/final_data.csv\")\n",
    "df = df.drop(columns=['File Name','Number of cells','Cell Number'])\n",
    "df = shuffle(df)\n",
    "df\n",
    "\n"
   ]
  },
  {
   "cell_type": "code",
   "execution_count": 16,
   "metadata": {},
   "outputs": [],
   "source": [
    "X = df.drop('IsShade', axis=1)\n",
    "y = df['IsShade']\n",
    "\n",
    "from sklearn.model_selection import train_test_split\n",
    "# implementing train-test-split\n",
    "X_train, X_test, y_train, y_test = train_test_split(X, y, test_size=0.34, random_state=66)\n"
   ]
  },
  {
   "cell_type": "code",
   "execution_count": 17,
   "metadata": {},
   "outputs": [
    {
     "data": {
      "text/plain": [
       "DecisionTreeClassifier(class_weight=None, criterion='gini', max_depth=None,\n",
       "                       max_features=None, max_leaf_nodes=None,\n",
       "                       min_impurity_decrease=0.0, min_impurity_split=None,\n",
       "                       min_samples_leaf=1, min_samples_split=2,\n",
       "                       min_weight_fraction_leaf=0.0, presort=False,\n",
       "                       random_state=None, splitter='best')"
      ]
     },
     "execution_count": 17,
     "metadata": {},
     "output_type": "execute_result"
    }
   ],
   "source": [
    "from sklearn.tree import DecisionTreeClassifier\n",
    "from sklearn.metrics import confusion_matrix\n",
    "\n",
    "dtc = DecisionTreeClassifier()\n",
    "dtc.fit(X_train,y_train)\n"
   ]
  },
  {
   "cell_type": "code",
   "execution_count": 18,
   "metadata": {},
   "outputs": [],
   "source": [
    "dtc_predict = dtc.predict(X_test)"
   ]
  },
  {
   "cell_type": "code",
   "execution_count": 19,
   "metadata": {},
   "outputs": [
    {
     "data": {
      "text/plain": [
       "array([0, 1, 1, ..., 1, 0, 1], dtype=int64)"
      ]
     },
     "execution_count": 19,
     "metadata": {},
     "output_type": "execute_result"
    }
   ],
   "source": [
    "dtc_predict"
   ]
  },
  {
   "cell_type": "code",
   "execution_count": 20,
   "metadata": {},
   "outputs": [
    {
     "name": "stdout",
     "output_type": "stream",
     "text": [
      "Train set\n",
      "Decision Trees: 1.0\n",
      "Test set\n",
      "Decision Trees: 0.9864809459937096\n"
     ]
    }
   ],
   "source": [
    "from sklearn.metrics import roc_auc_score\n",
    "print('Train set')\n",
    "train_pred = dtc.predict_proba(X_train)\n",
    "print('Decision Trees: {}'.format(roc_auc_score(y_train, train_pred[:,1])))\n",
    "print('Test set')\n",
    "test_pred = dtc.predict_proba(X_test)\n",
    "print('Decision Trees: {}'.format(roc_auc_score(y_test, test_pred[:,1])))"
   ]
  },
  {
   "cell_type": "code",
   "execution_count": 21,
   "metadata": {},
   "outputs": [],
   "source": [
    "from sklearn.model_selection import cross_val_score\n",
    "from sklearn.metrics import classification_report, confusion_matrix"
   ]
  },
  {
   "cell_type": "code",
   "execution_count": 22,
   "metadata": {},
   "outputs": [],
   "source": [
    "dtc_cv_score = cross_val_score(dtc, X, y, cv=10, scoring='roc_auc')"
   ]
  },
  {
   "cell_type": "code",
   "execution_count": 23,
   "metadata": {},
   "outputs": [
    {
     "name": "stdout",
     "output_type": "stream",
     "text": [
      "=== Confusion Matrix ===\n",
      "[[17049   254]\n",
      " [  213 17022]]\n",
      "\n",
      "\n",
      "=== Classification Report ===\n",
      "              precision    recall  f1-score   support\n",
      "\n",
      "           0       0.99      0.99      0.99     17303\n",
      "           1       0.99      0.99      0.99     17235\n",
      "\n",
      "    accuracy                           0.99     34538\n",
      "   macro avg       0.99      0.99      0.99     34538\n",
      "weighted avg       0.99      0.99      0.99     34538\n",
      "\n",
      "\n",
      "\n",
      "=== All AUC Scores ===\n",
      "[0.99655454 0.99763756 0.99773624 0.9980315  0.99704666 0.99744021\n",
      " 0.99744019 0.99773589 0.99684995 0.9981298 ]\n",
      "\n",
      "\n",
      "=== Mean AUC Score ===\n",
      "Mean AUC Score - Decision Trees:  0.9974602534303921\n"
     ]
    }
   ],
   "source": [
    "print(\"=== Confusion Matrix ===\")\n",
    "print(confusion_matrix(y_test, dtc_predict))\n",
    "print('\\n')\n",
    "print(\"=== Classification Report ===\")\n",
    "print(classification_report(y_test, dtc_predict))\n",
    "print('\\n')\n",
    "print(\"=== All AUC Scores ===\")\n",
    "print(dtc_cv_score)\n",
    "print('\\n')\n",
    "print(\"=== Mean AUC Score ===\")\n",
    "print(\"Mean AUC Score - Decision Trees: \", dtc_cv_score.mean())"
   ]
  },
  {
   "cell_type": "code",
   "execution_count": 24,
   "metadata": {},
   "outputs": [
    {
     "name": "stdout",
     "output_type": "stream",
     "text": [
      "Train Accuracy ::  1.0\n",
      "Test Accuracy  ::  0.986478661184782\n"
     ]
    }
   ],
   "source": [
    "from sklearn.metrics import accuracy_score\n",
    "\n",
    "print(\"Train Accuracy :: \", accuracy_score(y_train, dtc.predict(X_train)))\n",
    "print(\"Test Accuracy  :: \", accuracy_score(y_test, dtc_predict))"
   ]
  },
  {
   "cell_type": "code",
   "execution_count": 25,
   "metadata": {},
   "outputs": [
    {
     "name": "stdout",
     "output_type": "stream",
     "text": [
      "Cross-validation scores:\n",
      "None\n",
      "Cross-validation scores:\n",
      "[0.99684977 0.99783422 0.99724355 0.99744044 0.99655444 0.99753889\n",
      " 0.99753889 0.99753889 0.99763733 0.99753889]\n",
      "0.9974699744044102\n"
     ]
    }
   ],
   "source": [
    "from sklearn.model_selection import KFold\n",
    "scores_dtc = []\n",
    "kfold = KFold(n_splits=10)\n",
    "print(\"Cross-validation scores:\\n{}\".format(\n",
    "      scores_dtc.append(cross_val_score(dtc, X, y, cv=kfold))))\n",
    "print(\"Cross-validation scores:\\n{}\".format(\n",
    "      cross_val_score(dtc, X, y, cv=kfold)))\n",
    "print(np.mean(scores_dtc))"
   ]
  },
  {
   "cell_type": "code",
   "execution_count": null,
   "metadata": {},
   "outputs": [
    {
     "name": "stdout",
     "output_type": "stream",
     "text": [
      "Cross-validation scores:\n",
      "None\n"
     ]
    }
   ],
   "source": [
    "from sklearn.model_selection import StratifiedKFold\n",
    "scores_dtc = []\n",
    "skfold = StratifiedKFold(n_splits=10)\n",
    "print(\"Cross-validation scores:\\n{}\".format(\n",
    "      scores_dtc.append(cross_val_score(dtc, X, y, cv=kfold))))\n",
    "print(\"Cross-validation scores:\\n{}\".format(\n",
    "      cross_val_score(dtc, X, y, cv=skfold)))\n",
    "print(np.mean(scores_dtc))"
   ]
  },
  {
   "cell_type": "code",
   "execution_count": null,
   "metadata": {},
   "outputs": [],
   "source": []
  },
  {
   "cell_type": "code",
   "execution_count": null,
   "metadata": {},
   "outputs": [],
   "source": []
  }
 ],
 "metadata": {
  "kernelspec": {
   "display_name": "Python 3",
   "language": "python",
   "name": "python3"
  },
  "language_info": {
   "codemirror_mode": {
    "name": "ipython",
    "version": 3
   },
   "file_extension": ".py",
   "mimetype": "text/x-python",
   "name": "python",
   "nbconvert_exporter": "python",
   "pygments_lexer": "ipython3",
   "version": "3.7.4"
  }
 },
 "nbformat": 4,
 "nbformat_minor": 2
}
